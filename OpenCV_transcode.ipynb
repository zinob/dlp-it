{
 "cells": [
  {
   "cell_type": "code",
   "execution_count": 2,
   "metadata": {},
   "outputs": [],
   "source": [
    "%matplotlib notebook\n",
    "import numpy as np\n",
    "import cv2\n",
    "import matplotlib.pyplot as plt\n",
    "from IPython.display import HTML\n",
    "from tqdm import tnrange, tqdm_notebook"
   ]
  },
  {
   "cell_type": "code",
   "execution_count": null,
   "metadata": {},
   "outputs": [
    {
     "data": {
      "application/vnd.jupyter.widget-view+json": {
       "model_id": "29dff36c9730439aa6b035069aae8bcf"
      }
     },
     "metadata": {},
     "output_type": "display_data"
    }
   ],
   "source": [
    "cap = cv2.VideoCapture('debris.mp4')\n",
    "b_frame = cap.read()[1][:,:,0]\n",
    "cache=[[b_frame,b_frame],[b_frame],[]]\n",
    "fourcc = cv2.VideoWriter_fourcc(*'MJPG')\n",
    "out = cv2.VideoWriter('output.avi',fourcc, 30.0, b_frame.shape[::-1])\n",
    "\n",
    "tq = tqdm_notebook(total=12942)\n",
    "while(cap.isOpened()):\n",
    "    tq.update()\n",
    "    ret, frame = cap.read()\n",
    "    if not ret:\n",
    "        break\n",
    "    for i in range(3):\n",
    "        cache[i].append(frame[:,:,i])\n",
    "    new = np.stack([cache[0][0],cache[1][0],cache[2][0]],axis=2)\n",
    "    for i in range(3):\n",
    "        del cache[i][0]\n",
    "    out.write(new)"
   ]
  }
 ],
 "metadata": {
  "kernelspec": {
   "display_name": "Python 3",
   "language": "python",
   "name": "python3"
  },
  "language_info": {
   "codemirror_mode": {
    "name": "ipython",
    "version": 3
   },
   "file_extension": ".py",
   "mimetype": "text/x-python",
   "name": "python",
   "nbconvert_exporter": "python",
   "pygments_lexer": "ipython3",
   "version": "3.5.4"
  }
 },
 "nbformat": 4,
 "nbformat_minor": 2
}
